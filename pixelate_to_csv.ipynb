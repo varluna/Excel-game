{
 "cells": [
  {
   "cell_type": "code",
   "execution_count": 6,
   "id": "a7074985",
   "metadata": {},
   "outputs": [],
   "source": [
    "\n",
    "from PIL import Image\n",
    "import pandas as pd\n",
    "from skimage import io\n",
    "import numpy as np\n",
    "import matplotlib.pyplot as plt"
   ]
  },
  {
   "cell_type": "code",
   "execution_count": 9,
   "id": "7ef2d0cb",
   "metadata": {},
   "outputs": [],
   "source": [
    "# this function will convert the image to px\n",
    "def pixelate(input_file_path, pixel_size):\n",
    "    image = Image.open(input_file_path)\n",
    "    image = image.resize(\n",
    "        (image.size[0] // pixel_size, image.size[1] // pixel_size),\n",
    "        Image.NEAREST\n",
    "    )\n",
    "    image = image.resize(\n",
    "        (image.size[0] * pixel_size, image.size[1] * pixel_size),\n",
    "        Image.NEAREST\n",
    "    )\n",
    "    image.save('a.png')\n",
    "    return image\n"
   ]
  },
  {
   "cell_type": "code",
   "execution_count": 10,
   "id": "c36c9550",
   "metadata": {},
   "outputs": [
    {
     "data": {
      "image/png": "[encoded data removed]",
      "text/plain": [
       "<PIL.Image.Image image mode=RGBA size=896x408>"
      ]
     },
     "execution_count": 10,
     "metadata": {},
     "output_type": "execute_result"
    }
   ],
   "source": [
    "pixelate(\"a.png\" , 8 )"
   ]
  },
  {
   "cell_type": "code",
   "execution_count": 15,
   "id": "5bf1cfae",
   "metadata": {},
   "outputs": [
    {
     "name": "stdout",
     "output_type": "stream",
     "text": [
      "Image resized and saved to a.png\n"
     ]
    }
   ],
   "source": [
    "def resize_image(input_path, output_path, new_size):\n",
    "    try:\n",
    "        img = Image.open(input_path)\n",
    "        resized_img = img.resize(new_size)\n",
    "        resized_img.save(output_path)\n",
    "        print(f\"Image resized and saved to {output_path}\")\n",
    "    except Exception as e:\n",
    "        print(f\"Error: {e}\")\n",
    "\n",
    "# Example usage\n",
    "input_image_path = \"a.png\"\n",
    "output_image_path = \"a.png\"\n",
    "new_size = (256,117)\n",
    "\n",
    "resize_image(input_image_path, output_image_path, new_size)"
   ]
  },
  {
   "cell_type": "code",
   "execution_count": 16,
   "id": "2d11413b",
   "metadata": {},
   "outputs": [
    {
     "name": "stdout",
     "output_type": "stream",
     "text": [
      "                 0                1                2                3    \\\n",
      "0       RGB(0, 0, 0)     RGB(0, 0, 0)     RGB(0, 0, 0)     RGB(0, 0, 0)   \n",
      "1       RGB(0, 0, 0)     RGB(0, 0, 0)     RGB(0, 0, 0)     RGB(0, 0, 0)   \n",
      "2       RGB(0, 0, 0)     RGB(0, 0, 0)     RGB(0, 1, 1)     RGB(0, 1, 1)   \n",
      "3       RGB(0, 0, 0)     RGB(0, 0, 0)     RGB(0, 1, 1)     RGB(0, 1, 1)   \n",
      "4       RGB(1, 0, 0)     RGB(1, 0, 0)     RGB(0, 1, 3)     RGB(0, 1, 4)   \n",
      "..               ...              ...              ...              ...   \n",
      "112   RGB(9, 19, 16)   RGB(9, 19, 16)   RGB(8, 21, 18)   RGB(8, 21, 18)   \n",
      "113  RGB(11, 26, 20)  RGB(11, 26, 20)  RGB(10, 27, 21)  RGB(10, 26, 21)   \n",
      "114  RGB(10, 25, 20)  RGB(10, 25, 20)   RGB(9, 26, 21)   RGB(9, 26, 21)   \n",
      "115   RGB(8, 26, 20)   RGB(8, 26, 20)   RGB(8, 27, 21)   RGB(8, 27, 21)   \n",
      "116   RGB(8, 26, 20)   RGB(8, 26, 20)   RGB(8, 27, 21)   RGB(8, 27, 21)   \n",
      "\n",
      "                 4                5                6                7    \\\n",
      "0       RGB(0, 0, 0)     RGB(0, 0, 0)     RGB(0, 0, 0)     RGB(0, 0, 1)   \n",
      "1       RGB(0, 0, 0)     RGB(0, 0, 0)     RGB(0, 0, 0)     RGB(0, 0, 1)   \n",
      "2       RGB(0, 1, 1)     RGB(0, 0, 0)     RGB(0, 0, 0)     RGB(0, 0, 1)   \n",
      "3       RGB(0, 1, 1)     RGB(0, 0, 0)     RGB(0, 0, 0)     RGB(0, 0, 0)   \n",
      "4       RGB(0, 1, 3)     RGB(0, 0, 1)     RGB(5, 4, 8)  RGB(29, 21, 36)   \n",
      "..               ...              ...              ...              ...   \n",
      "112   RGB(7, 19, 16)   RGB(6, 16, 13)   RGB(6, 18, 15)   RGB(7, 21, 17)   \n",
      "113  RGB(10, 27, 21)  RGB(10, 26, 21)  RGB(10, 26, 21)   RGB(8, 25, 19)   \n",
      "114   RGB(9, 26, 21)  RGB(10, 26, 20)  RGB(10, 26, 20)   RGB(8, 25, 19)   \n",
      "115   RGB(8, 27, 21)   RGB(9, 28, 21)   RGB(9, 27, 20)   RGB(8, 25, 18)   \n",
      "116   RGB(8, 27, 21)   RGB(9, 28, 21)   RGB(9, 27, 20)   RGB(8, 25, 18)   \n",
      "\n",
      "                 8                  9    ...              246  \\\n",
      "0       RGB(2, 2, 1)  RGB(125, 133, 23)  ...     RGB(0, 0, 3)   \n",
      "1       RGB(2, 2, 1)  RGB(124, 132, 23)  ...     RGB(0, 0, 2)   \n",
      "2       RGB(3, 2, 1)  RGB(152, 162, 28)  ...  RGB(18, 21, 35)   \n",
      "3       RGB(0, 0, 0)  RGB(166, 177, 30)  ...  RGB(27, 32, 51)   \n",
      "4    RGB(31, 23, 36)  RGB(155, 162, 33)  ...  RGB(16, 18, 29)   \n",
      "..               ...                ...  ...              ...   \n",
      "112   RGB(7, 21, 17)     RGB(7, 21, 17)  ...  RGB(16, 36, 26)   \n",
      "113   RGB(8, 25, 19)    RGB(10, 28, 22)  ...  RGB(11, 33, 24)   \n",
      "114   RGB(8, 25, 19)     RGB(9, 26, 20)  ...   RGB(8, 30, 21)   \n",
      "115   RGB(8, 25, 18)     RGB(7, 23, 17)  ...   RGB(1, 23, 13)   \n",
      "116   RGB(8, 25, 18)     RGB(7, 23, 17)  ...   RGB(1, 23, 13)   \n",
      "\n",
      "                 247              248              249              250  \\\n",
      "0       RGB(0, 0, 5)     RGB(0, 0, 5)  RGB(11, 12, 26)  RGB(14, 16, 32)   \n",
      "1       RGB(0, 0, 5)     RGB(0, 0, 5)  RGB(11, 12, 26)  RGB(14, 16, 33)   \n",
      "2       RGB(0, 0, 6)     RGB(0, 0, 6)    RGB(3, 4, 15)    RGB(4, 5, 18)   \n",
      "3       RGB(0, 0, 7)     RGB(0, 0, 7)     RGB(0, 0, 8)    RGB(0, 0, 10)   \n",
      "4       RGB(0, 0, 4)     RGB(0, 0, 4)  RGB(10, 13, 22)  RGB(13, 16, 27)   \n",
      "..               ...              ...              ...              ...   \n",
      "112  RGB(18, 37, 27)  RGB(18, 37, 27)  RGB(18, 35, 26)  RGB(18, 35, 26)   \n",
      "113  RGB(15, 35, 26)  RGB(15, 35, 26)  RGB(12, 33, 24)  RGB(12, 33, 24)   \n",
      "114  RGB(12, 33, 24)  RGB(12, 33, 24)  RGB(13, 32, 23)  RGB(14, 32, 23)   \n",
      "115   RGB(6, 27, 18)   RGB(6, 27, 18)  RGB(14, 29, 21)  RGB(16, 29, 22)   \n",
      "116   RGB(6, 27, 18)   RGB(6, 27, 18)  RGB(14, 29, 21)  RGB(16, 29, 22)   \n",
      "\n",
      "                 251              252              253              254  \\\n",
      "0      RGB(6, 6, 13)     RGB(0, 0, 0)     RGB(4, 4, 6)  RGB(14, 14, 20)   \n",
      "1      RGB(6, 6, 13)     RGB(0, 0, 0)     RGB(4, 4, 6)  RGB(14, 14, 20)   \n",
      "2       RGB(2, 2, 7)     RGB(0, 0, 0)     RGB(3, 3, 9)  RGB(10, 10, 30)   \n",
      "3       RGB(0, 0, 4)     RGB(0, 0, 0)    RGB(2, 3, 10)    RGB(8, 9, 35)   \n",
      "4      RGB(5, 7, 11)     RGB(0, 2, 0)     RGB(2, 4, 7)    RGB(6, 9, 25)   \n",
      "..               ...              ...              ...              ...   \n",
      "112  RGB(16, 33, 24)  RGB(16, 33, 24)  RGB(16, 32, 23)  RGB(18, 30, 23)   \n",
      "113  RGB(10, 31, 22)   RGB(9, 30, 21)  RGB(10, 29, 21)  RGB(13, 28, 21)   \n",
      "114  RGB(12, 30, 22)  RGB(11, 29, 21)  RGB(12, 28, 21)  RGB(16, 28, 22)   \n",
      "115  RGB(15, 28, 21)  RGB(15, 27, 20)  RGB(16, 27, 21)  RGB(20, 28, 23)   \n",
      "116  RGB(15, 28, 21)  RGB(15, 27, 20)  RGB(16, 27, 21)  RGB(20, 28, 23)   \n",
      "\n",
      "                 255  \n",
      "0    RGB(14, 14, 19)  \n",
      "1    RGB(14, 14, 19)  \n",
      "2    RGB(10, 10, 29)  \n",
      "3      RGB(8, 9, 34)  \n",
      "4      RGB(6, 9, 24)  \n",
      "..               ...  \n",
      "112  RGB(18, 30, 23)  \n",
      "113  RGB(13, 28, 21)  \n",
      "114  RGB(16, 28, 22)  \n",
      "115  RGB(20, 28, 23)  \n",
      "116  RGB(20, 28, 23)  \n",
      "\n",
      "[117 rows x 256 columns]\n"
     ]
    }
   ],
   "source": [
    "\n",
    "# Load your image using PIL\n",
    "image_path = 'a.png'  # Replace 'px.jpg' with the actual path to your image\n",
    "image = np.array(Image.open(image_path))\n",
    "\n",
    "# Convert to RGB strings\n",
    "rbg_strings_array = [\n",
    "    [f\"RGB({int(val[0])}, {int(val[1])}, {int(val[2])})\"\n",
    "     for val in row]\n",
    "    for row in image\n",
    "]\n",
    "\n",
    "# Create DataFrame for the rgb cells\n",
    "df = pd.DataFrame(rbg_strings_array)\n",
    "print(df)\n"
   ]
  },
  {
   "cell_type": "code",
   "execution_count": 17,
   "id": "de563837",
   "metadata": {},
   "outputs": [],
   "source": [
    "df.to_excel(r'C:\\Users\\coder\\OneDrive\\Desktop\\pxlv3.xlsx', index = False)"
   ]
  }
 ],
 "metadata": {
  "kernelspec": {
   "display_name": "Python 3 (ipykernel)",
   "language": "python",
   "name": "python3"
  },
  "language_info": {
   "codemirror_mode": {
    "name": "ipython",
    "version": 3
   },
   "file_extension": ".py",
   "mimetype": "text/x-python",
   "name": "python",
   "nbconvert_exporter": "python",
   "pygments_lexer": "ipython3",
   "version": "3.11.5"
  }
 },
 "nbformat": 4,
 "nbformat_minor": 5
}
